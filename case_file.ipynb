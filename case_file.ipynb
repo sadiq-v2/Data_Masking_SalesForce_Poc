{
 "cells": [
  {
   "cell_type": "code",
   "execution_count": 1,
   "id": "ec7b20de-0f41-40eb-90f7-d4c8d9386a1d",
   "metadata": {},
   "outputs": [
    {
     "name": "stdout",
     "output_type": "stream",
     "text": [
      "File saved successfully at: D:\\Jupyter_projects\\Salesforce_dataset\\master_data_25112024\\Cases Filtered Data_Masked.xlsx\n"
     ]
    }
   ],
   "source": [
    "import pandas as pd\n",
    "\n",
    "# Input and output file paths\n",
    "input_file = r\"D:\\Jupyter_projects\\Salesforce_dataset\\master_data_25112024\\Cases Filtered Data.xlsx\"\n",
    "output_file = r\"D:\\Jupyter_projects\\Salesforce_dataset\\master_data_25112024\\Cases Filtered Data_Masked.xlsx\"\n",
    "\n",
    "# Read the input Excel file\n",
    "data = pd.read_excel(input_file)\n",
    "\n",
    "# Create alternating dummy strings\n",
    "data['SUBJECT'] = ['Dummy_Subject-1' if i % 2 == 0 else 'Dummy_Subject-2' for i in range(len(data))]\n",
    "data['DESCRIPTION'] = ['Dummy_Description-1' if i % 2 == 0 else 'Dummy_Description-2' for i in range(len(data))]\n",
    "\n",
    "# Save the updated DataFrame to a new Excel file\n",
    "data.to_excel(output_file, index=False)\n",
    "\n",
    "print(f\"File saved successfully at: {output_file}\")\n"
   ]
  },
  {
   "cell_type": "code",
   "execution_count": 5,
   "id": "1922863a-3dad-484d-ba75-3ea5e5b029e1",
   "metadata": {},
   "outputs": [
    {
     "name": "stdout",
     "output_type": "stream",
     "text": [
      "File saved successfully at: D:\\Jupyter_projects\\Salesforce_dataset\\master_data_25112024\\Cases Filtered Data1_Masked.xlsx\n"
     ]
    }
   ],
   "source": [
    "import pandas as pd\n",
    "\n",
    "# Input and output file paths\n",
    "# input_file = r\"D:\\Jupyter_projects\\Salesforce_dataset\\master_data_25112024\\Cases Filtered Data.xlsx\"\n",
    "# output_file = r\"D:\\Jupyter_projects\\Salesforce_dataset\\master_data_25112024\\Cases Filtered Data_Masked.xlsx\"\n",
    "\n",
    "input_file = r\"D:\\Jupyter_projects\\Salesforce_dataset\\master_data_25112024\\Cases Filtered Data1.xlsx\"\n",
    "output_file = r\"D:\\Jupyter_projects\\Salesforce_dataset\\master_data_25112024\\Cases Filtered Data1_Masked.xlsx\"\n",
    "\n",
    "# Read the input Excel file\n",
    "data = pd.read_excel(input_file)\n",
    "\n",
    "# Create incrementing dummy strings\n",
    "data['SUBJECT'] = [f\"Dummy_Subject-{i+1}\" for i in range(len(data))]\n",
    "data['DESCRIPTION'] = [f\"Dummy_Description-{i+1}\" for i in range(len(data))]\n",
    "\n",
    "# Save the updated DataFrame to a new Excel file\n",
    "data.to_excel(output_file, index=False)\n",
    "\n",
    "print(f\"File saved successfully at: {output_file}\")\n"
   ]
  },
  {
   "cell_type": "code",
   "execution_count": 6,
   "id": "e8cdeb02-faac-4f7b-b99a-7f7112aa21c5",
   "metadata": {},
   "outputs": [
    {
     "name": "stdout",
     "output_type": "stream",
     "text": [
      "Validation Passed: SUBJECT and DESCRIPTION columns are not the same.\n",
      "File saved successfully at: D:\\Jupyter_projects\\Salesforce_dataset\\master_data_25112024\\Cases Filtered Data1_Masked.xlsx\n"
     ]
    }
   ],
   "source": [
    "import pandas as pd\n",
    "\n",
    "# Input and output file paths\n",
    "# input_file = r\"D:\\Jupyter_projects\\Salesforce_dataset\\master_data_25112024\\Cases Filtered Data.xlsx\"\n",
    "# output_file = r\"D:\\Jupyter_projects\\Salesforce_dataset\\master_data_25112024\\master_data_masked_files_25112024\\Cases Filtered Data_Masked.xlsx\"\n",
    "\n",
    "input_file = r\"D:\\Jupyter_projects\\Salesforce_dataset\\master_data_25112024\\Cases Filtered Data1.xlsx\"\n",
    "output_file = r\"D:\\Jupyter_projects\\Salesforce_dataset\\master_data_25112024\\Cases Filtered Data1_Masked.xlsx\"\n",
    "\n",
    "# Read the input Excel file\n",
    "data = pd.read_excel(input_file)\n",
    "\n",
    "# Create incrementing dummy strings\n",
    "data['SUBJECT'] = [f\"Dummy_Subject-{i+1}\" for i in range(len(data))]\n",
    "data['DESCRIPTION'] = [f\"Dummy_Description-{i+1}\" for i in range(len(data))]\n",
    "\n",
    "# Validate that SUBJECT and DESCRIPTION columns are not the same\n",
    "if (data['SUBJECT'] == data['DESCRIPTION']).any():\n",
    "    print(\"Warning: There are rows where SUBJECT and DESCRIPTION are the same.\")\n",
    "else:\n",
    "    print(\"Validation Passed: SUBJECT and DESCRIPTION columns are not the same.\")\n",
    "\n",
    "# Save the updated DataFrame to a new Excel file\n",
    "data.to_excel(output_file, index=False)\n",
    "\n",
    "print(f\"File saved successfully at: {output_file}\")\n"
   ]
  },
  {
   "cell_type": "code",
   "execution_count": null,
   "id": "fda5bc2b-ef89-4a8a-abb1-ebf49675ff23",
   "metadata": {},
   "outputs": [],
   "source": []
  }
 ],
 "metadata": {
  "kernelspec": {
   "display_name": "Python 3 (ipykernel)",
   "language": "python",
   "name": "python3"
  },
  "language_info": {
   "codemirror_mode": {
    "name": "ipython",
    "version": 3
   },
   "file_extension": ".py",
   "mimetype": "text/x-python",
   "name": "python",
   "nbconvert_exporter": "python",
   "pygments_lexer": "ipython3",
   "version": "3.11.9"
  }
 },
 "nbformat": 4,
 "nbformat_minor": 5
}
